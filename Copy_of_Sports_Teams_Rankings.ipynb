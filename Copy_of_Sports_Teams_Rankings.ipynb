{
  "nbformat": 4,
  "nbformat_minor": 0,
  "metadata": {
    "colab": {
      "provenance": [],
      "include_colab_link": true
    },
    "kernelspec": {
      "name": "python3",
      "display_name": "Python 3"
    }
  },
  "cells": [
    {
      "cell_type": "markdown",
      "metadata": {
        "id": "view-in-github",
        "colab_type": "text"
      },
      "source": [
        "<a href=\"https://colab.research.google.com/github/Sophie-Sherwin/Linear_Algebra_Coding_Projects/blob/main/Copy_of_Sports_Teams_Rankings.ipynb\" target=\"_parent\"><img src=\"https://colab.research.google.com/assets/colab-badge.svg\" alt=\"Open In Colab\"/></a>"
      ]
    },
    {
      "cell_type": "markdown",
      "metadata": {
        "id": "TwGBRAD9R6W4"
      },
      "source": [
        "# Load the preliminary code"
      ]
    },
    {
      "cell_type": "code",
      "metadata": {
        "id": "NaP8xyCfRrUg"
      },
      "source": [
        "import matplotlib.pyplot as plt\n",
        "from sympy import Poly\n",
        "import sympy as sym\n",
        "import numpy as np\n",
        "from numpy import c_\n",
        "\n",
        "# We'll specify that x and t are variables:\n",
        "x, t = sym.symbols('x, t')\n",
        "\n",
        "ll = \"loaded\""
      ],
      "execution_count": 1,
      "outputs": []
    },
    {
      "cell_type": "code",
      "metadata": {
        "id": "CANB9fuMRyBP",
        "colab": {
          "base_uri": "https://localhost:8080/"
        },
        "outputId": "10ec529c-1571-4e00-a3a8-10918f7263d2"
      },
      "source": [
        "lll = \" correctly!\"\n",
        "\n",
        "def rref(matrix):\n",
        "    A = np.array(matrix, dtype=np.float64)\n",
        "    \n",
        "    r = 0 #row\n",
        "    c = 0 #column\n",
        "\n",
        "    (maxr, maxc) = A.shape\n",
        "\n",
        "    prev_row_pivot = -1   # The previous row with a leading term:\n",
        "    tmp_pivot_row = -1\n",
        "    this_pivot_row = -1\n",
        "\n",
        "    for c in range(maxc):  # go through each column\n",
        "      tmp_pivot_row = -1  # reset the tmp pivot row\n",
        "      this_pivot_row = -1  # reset this pivot row\n",
        "      for r in range(maxr):  # Find the leading term in this column below prev_row_pivot\n",
        "        if ((r > prev_row_pivot) and (A[r][c] != 0.0)):\n",
        "          tmp_pivot_row = r  # find the new pivot row\n",
        "      if (tmp_pivot_row > -1):  # we found a candidate for the leading term:\n",
        "        #swap row this_pivot_row with (prev_row_pivot + 1)\n",
        "        A[[tmp_pivot_row, prev_row_pivot+1]] = A[[prev_row_pivot + 1, tmp_pivot_row]]\n",
        "        #set this_pivot_row to prev_row_pivot+1\n",
        "        this_pivot_row = prev_row_pivot + 1\n",
        "        #Now, normalize the row based on the pivot value:\n",
        "        A[ this_pivot_row ] = A[ this_pivot_row ] / A[ this_pivot_row ][c]\n",
        "        #Then, use this row to force 0's above and below the pivot entry:\n",
        "        #subtract multiples of of the this_pivot_row row from the others\n",
        "        for r_ in range(len(A)):\n",
        "            if r_ != this_pivot_row:\n",
        "                A[r_] = A[r_] - A[this_pivot_row] * A[r_][c] / A[this_pivot_row][c]\n",
        "        prev_row_pivot = this_pivot_row\n",
        "    return A   \n",
        "\n",
        "\n",
        "def is_singular(matrix):\n",
        "  singular = True\n",
        "  notsingular = False\n",
        "\n",
        "  (mr, mc) = matrix.shape\n",
        "  \n",
        "  return_value = notsingular\n",
        "  if (mc - np.linalg.linalg.matrix_rank(matrix) > 0) :\n",
        "    return_value = singular\n",
        "  return return_value\n",
        " \n",
        "    \n",
        "    \n",
        "\n",
        "print(\">> The page \", ll, lll)"
      ],
      "execution_count": 2,
      "outputs": [
        {
          "output_type": "stream",
          "name": "stdout",
          "text": [
            ">> The page  loaded  correctly!\n"
          ]
        }
      ]
    },
    {
      "cell_type": "markdown",
      "metadata": {
        "id": "dCB31bhvTulU"
      },
      "source": [
        "# Ranking Teams based on games\n",
        "\n",
        "From our packet, we saw there were five games:\n",
        "\n",
        "Home  | Away\n",
        "------|------\n",
        "Winona State 16 | Sioux Falls 15\n",
        "Winona State 34 | Augustana 20\n",
        "Sioux Falls 51  | Augustana 13\n",
        "Duluth 28       |  Augustana 17\n",
        "Winona State 17 | Duluth 37\n",
        "\n",
        "Let's encode this system into a matrix.\n",
        "\n",
        "The unknown rankings are $r_w, r_s, r_a, r_d$.\n",
        "\n",
        "The system looks like $M \\vec{x} = \\vec{b}$, or\n",
        "\n",
        "$$\n",
        "\\left( \\begin{array}{cccc} 1 & -1 & 0 & 0 \\\\ 1 & 0 & -1 & 0 \\\\ 0 & 1 & -1 & 0 \\\\ 0 & 0 & -1 & 1 \\\\ -1 & 0  & 0 & 1 \\\\ \\end{array} \\right) \\, \\left( \\begin{array}{c} r_w \\\\ r_s \\\\ r_a \\\\ r_d \\\\ \\end{array} \\right) = \\left( \\begin{array}{c} 1 \\\\ 14 \\\\ 38 \\\\ 11 \\\\ 20 \\\\ \\end{array} \\right)$$\n",
        "\n",
        "We'll solve this system using least squares \n",
        "$$M^T I M \\vec{x} = M^T I \\vec{b} $$\n",
        "\n",
        "$$ \\vec{x} = \\left( M^T I M  \\right)^{-1} M^T I \\vec{b} $$\n",
        "\n",
        "\n",
        "\n",
        "\n"
      ]
    },
    {
      "cell_type": "code",
      "metadata": {
        "id": "zZOH_e5mViMs",
        "colab": {
          "base_uri": "https://localhost:8080/"
        },
        "outputId": "5a6095c1-6aca-431a-de9e-a3b5ba9ee96d"
      },
      "source": [
        "# create the matrix:\n",
        "M = np.matrix([[-1, 0, 0, 1, 0, 0, 0],\n",
        "               [-1, 0, 0, 0, 1, 0, 0],\n",
        "               [-1, 0, 0, 0, 0, 1, 0],\n",
        "               [0, 1, -1, 0, 0, 0, 0],\n",
        "               [0, 0, 1, -1, 0, 0, 0],\n",
        "               [0, 0, -1, 0, 1, 0, 0],\n",
        "               [0, 0, -1, 0, 0, 0, 1],\n",
        "               [0, 0, 0, 1, -1, 0, 0],\n",
        "               [0, 0, 0, -1, 0, 1, 0],\n",
        "               [0, 0, 0, 1, 0, 0, -1],\n",
        "               [0, 0, 0, 0, 1, -1, 0],\n",
        "               [0, 0, 0, 0, 1, 0, -1],\n",
        "               [0, 0, 0, 0, 0, 1, -1]])\n",
        "\n",
        "\n",
        "# create the vector for the right hand side:\n",
        "pts = np.matrix([[2], [3], [2], [3], [1], [3], [3], [3], [3], [3], [2], [1], [1]])\n",
        " \n",
        "#Make sure the system looks appropriate:\n",
        "print(np.c_[M,pts])"
      ],
      "execution_count": 4,
      "outputs": [
        {
          "output_type": "stream",
          "name": "stdout",
          "text": [
            "[[-1  0  0  1  0  0  0  2]\n",
            " [-1  0  0  0  1  0  0  3]\n",
            " [-1  0  0  0  0  1  0  2]\n",
            " [ 0  1 -1  0  0  0  0  3]\n",
            " [ 0  0  1 -1  0  0  0  1]\n",
            " [ 0  0 -1  0  1  0  0  3]\n",
            " [ 0  0 -1  0  0  0  1  3]\n",
            " [ 0  0  0  1 -1  0  0  3]\n",
            " [ 0  0  0 -1  0  1  0  3]\n",
            " [ 0  0  0  1  0  0 -1  3]\n",
            " [ 0  0  0  0  1 -1  0  2]\n",
            " [ 0  0  0  0  1  0 -1  1]\n",
            " [ 0  0  0  0  0  1 -1  1]]\n"
          ]
        }
      ]
    },
    {
      "cell_type": "code",
      "metadata": {
        "id": "s_r-ljCGWB18",
        "colab": {
          "base_uri": "https://localhost:8080/"
        },
        "outputId": "2d951fff-9d1a-4fdf-973e-95ab163ca6d0"
      },
      "source": [
        "# Generate the transpose of M:\n",
        "MT = M.transpose()\n",
        "\n",
        "print(\"The Transpose of M is:\")\n",
        "print(MT)\n",
        "\n",
        "# and find MT*M and MT*pts:\n",
        "print(\"\\n\")\n",
        "print(\"MT * M is: \")\n",
        "MTM = MT * M\n",
        "print(MTM)\n",
        "\n",
        "print(\"\\n\")\n",
        "print(\"MT * pts is:\")\n",
        "MTpts = MT * pts\n",
        "print(MTpts)\n"
      ],
      "execution_count": 15,
      "outputs": [
        {
          "output_type": "stream",
          "name": "stdout",
          "text": [
            "The Transpose of M is:\n",
            "[[-1 -1 -1  0  0  0  0  0  0  0  0  0  0]\n",
            " [ 0  0  0  1  0  0  0  0  0  0  0  0  0]\n",
            " [ 0  0  0 -1  1 -1 -1  0  0  0  0  0  0]\n",
            " [ 1  0  0  0 -1  0  0  1 -1  1  0  0  0]\n",
            " [ 0  1  0  0  0  1  0 -1  0  0  1  1  0]\n",
            " [ 0  0  1  0  0  0  0  0  1  0 -1  0  1]\n",
            " [ 0  0  0  0  0  0  1  0  0 -1  0 -1 -1]]\n",
            "\n",
            "\n",
            "MT * M is: \n",
            "[[ 3  0  0 -1 -1 -1  0]\n",
            " [ 0  1 -1  0  0  0  0]\n",
            " [ 0 -1  4 -1 -1  0 -1]\n",
            " [-1  0 -1  5 -1 -1 -1]\n",
            " [-1  0 -1 -1  5 -1 -1]\n",
            " [-1  0  0 -1 -1  4 -1]\n",
            " [ 0  0 -1 -1 -1 -1  4]]\n",
            "\n",
            "\n",
            "MT * pts is:\n",
            "[[-7]\n",
            " [ 3]\n",
            " [-8]\n",
            " [ 4]\n",
            " [ 6]\n",
            " [ 4]\n",
            " [-2]]\n"
          ]
        }
      ]
    },
    {
      "cell_type": "markdown",
      "metadata": {
        "id": "x38H0uPwbhpF"
      },
      "source": [
        "If $M^T M$ has an inverse, then we can use it.  But, if $M^T M$ is singular, then it doesn't have an inverse.  In this situation, we need to replace every entry in one row (say the bottom row) of $M^T M$ and $M^T \\vec{pts}$ with 1's.  (This knocks the system out of *not* having an inverse, so it will now have an inverse.)"
      ]
    },
    {
      "cell_type": "code",
      "metadata": {
        "id": "1ebWW4rZaopa",
        "colab": {
          "base_uri": "https://localhost:8080/"
        },
        "outputId": "3f9292cc-ea10-466f-c3a0-719a8a91f6bf"
      },
      "source": [
        "#  Check if MTM is singular\n",
        "is_singular(MT*M)"
      ],
      "execution_count": 16,
      "outputs": [
        {
          "output_type": "execute_result",
          "data": {
            "text/plain": [
              "True"
            ]
          },
          "metadata": {},
          "execution_count": 16
        }
      ]
    },
    {
      "cell_type": "code",
      "metadata": {
        "id": "Hs_ZR78AbziT",
        "colab": {
          "base_uri": "https://localhost:8080/"
        },
        "outputId": "e2f9a4d8-73e7-45a9-864c-b2c66fc60ea4"
      },
      "source": [
        "# If MTM is singular, then adjust one row of MTM and MT pts to be just 1's:\n",
        "\n",
        "#MTM[3] is the entire 4th row of MTM, \n",
        "#so MTM[3] = 1 will put 1's in MTM's 4th row.\n",
        "\n",
        "MTM[6] = 1\n",
        "MTpts[6] = 1\n",
        "\n",
        "print(\"MTM is now: \")\n",
        "print(MTM)\n",
        "\n",
        "print(\"and MTpts is now:\")\n",
        "print(MTpts)\n",
        "\n",
        "print(\"Is our modified MTM singular?\")\n",
        "is_singular(MTM)"
      ],
      "execution_count": 19,
      "outputs": [
        {
          "output_type": "stream",
          "name": "stdout",
          "text": [
            "MTM is now: \n",
            "[[ 3  0  0 -1 -1 -1  0]\n",
            " [ 0  1 -1  0  0  0  0]\n",
            " [ 0 -1  4 -1 -1  0 -1]\n",
            " [-1  0 -1  5 -1 -1 -1]\n",
            " [-1  0 -1 -1  5 -1 -1]\n",
            " [-1  0  0 -1 -1  4 -1]\n",
            " [ 1  1  1  1  1  1  1]]\n",
            "and MTpts is now:\n",
            "[[-7]\n",
            " [ 3]\n",
            " [-8]\n",
            " [ 4]\n",
            " [ 6]\n",
            " [ 4]\n",
            " [ 1]]\n",
            "Is our modified MTM singular?\n"
          ]
        },
        {
          "output_type": "execute_result",
          "data": {
            "text/plain": [
              "False"
            ]
          },
          "metadata": {},
          "execution_count": 19
        }
      ]
    },
    {
      "cell_type": "code",
      "metadata": {
        "id": "48WK4ZH7WRxH",
        "colab": {
          "base_uri": "https://localhost:8080/"
        },
        "outputId": "aaa7f6d3-3795-411c-f579-a38287b9df1d"
      },
      "source": [
        "#Find our solution using the inverse of MTM:\n",
        "\n",
        "#First, find the inverse of MTM:\n",
        "MTMI = np.linalg.inv(MTM)\n",
        "\n",
        "print(\"The inverse of MTM is:\")\n",
        "print(MTMI)\n",
        "\n",
        "#Now, use the inverse of MTM to solve for the rankings:\n",
        "\n",
        "print(\"\\n\")\n",
        "print(\"The solution are rankings:\")\n",
        "MTMI * MTpts"
      ],
      "execution_count": 14,
      "outputs": [
        {
          "output_type": "stream",
          "name": "stdout",
          "text": [
            "The inverse of MTM is:\n",
            "[[ 0.29336735 -0.25765306 -0.11479592  0.14285714  0.          0.02295918\n",
            "  -0.05867347]\n",
            " [-0.06377551  1.0994898   0.24234694  0.14285714  0.         -0.04846939\n",
            "   0.0127551 ]\n",
            " [-0.06377551  0.0994898   0.24234694  0.14285714  0.         -0.04846939\n",
            "   0.0127551 ]\n",
            " [-0.15603741 -0.34991497 -0.20705782  0.14285714 -0.16666667 -0.15858844\n",
            "  -0.16879252]\n",
            " [ 0.01062925 -0.1832483  -0.04039116  0.14285714  0.16666667  0.00807823\n",
            "  -0.00212585]\n",
            " [ 0.0255102  -0.23979592 -0.09693878  0.14285714  0.          0.21938776\n",
            "  -0.00510204]\n",
            " [-0.04591837 -0.16836735 -0.0255102   0.14285714  0.          0.00510204\n",
            "   0.20918367]]\n",
            "\n",
            "\n",
            "The solution are rankings:\n"
          ]
        },
        {
          "output_type": "execute_result",
          "data": {
            "text/plain": [
              "matrix([[-1.55612245],\n",
              "        [ 1.72959184],\n",
              "        [-1.27040816],\n",
              "        [ 0.54506803],\n",
              "        [ 0.87840136],\n",
              "        [ 0.90816327],\n",
              "        [-0.23469388]])"
            ]
          },
          "metadata": {},
          "execution_count": 14
        }
      ]
    },
    {
      "cell_type": "markdown",
      "metadata": {
        "id": "YOTdLT4-R-1h"
      },
      "source": [
        "#  Game Data  - Fall Sports\n",
        "\n",
        "Find the game data for the four teams in the NFC North and NFC South.\n",
        "\n",
        "The teams are:\n",
        "\n",
        "* **NFC North:**  Green Bay Packers, Chicago Bears, Detroit Lions, Minnesota Vikings\n",
        "* **NFC South:**  Atlanta Falcons, Carolina Panthers, New Orleans Saints, Tampa Bay Buccaneers\n",
        "\n",
        "\n",
        "It may be helpful to do a google search to find the data.\n",
        "\n",
        "Be sure to create your matrix on the handout, then enter the data for the system below.\n",
        "\n",
        "# Game Data - Spring Sports\n",
        "\n",
        "Find the game data for the seven teams in the Western Division for Men's Big Ten Basketball.\n",
        "\n",
        "**The teams:**  Wisconsin, Minnesota, Iowa, Illinois, Nebraska, Purdue, and Northewstern.\n",
        "\n",
        "I've provided **most** of the data, but you have to do a Google search to find the scores for the last two teams.\n",
        "\n",
        "Be sure to create your matrix on the handout, then enter the data for the system below.\n"
      ]
    },
    {
      "cell_type": "code",
      "metadata": {
        "id": "RrMkbXIC5v_X"
      },
      "source": [
        "# create the matrix:\n",
        "M = np.matrix([[1, -1, 0, 0],\n",
        "               [1, 0, -1, 0],\n",
        "               [0, 1, -1, 0],\n",
        "               [0, 0, -1, 1],\n",
        "               [-1, 0, 0, 1]])\n",
        "\n",
        "\n",
        "# create the vector for the right hand side:\n",
        "pts = np.matrix([[1], [14], [38], [11], [20]])\n",
        " \n",
        "#Make sure the system looks appropriate:\n",
        "print(np.c_[M,pts])"
      ],
      "execution_count": null,
      "outputs": []
    },
    {
      "cell_type": "code",
      "metadata": {
        "id": "TLLB3Ebe587M"
      },
      "source": [
        "# Generate the transpose of M:\n",
        "MT = M.transpose()\n",
        "\n",
        "print(\"The Transpose of M is:\")\n",
        "print(MT)\n",
        "\n",
        "# and find MT*M and MT*pts:\n",
        "print(\"\\n\")\n",
        "print(\"MT * M is: \")\n",
        "MTM = MT * M\n",
        "print(MTM)\n",
        "\n",
        "print(\"\\n\")\n",
        "print(\"MT * pts is:\")\n",
        "MTpts = MT * pts\n",
        "print(MTpts)\n"
      ],
      "execution_count": null,
      "outputs": []
    },
    {
      "cell_type": "code",
      "metadata": {
        "id": "VXqKSDj06BVa"
      },
      "source": [
        "#  Check if MTM is singular\n",
        "is_singular(MT*M)"
      ],
      "execution_count": null,
      "outputs": []
    },
    {
      "cell_type": "code",
      "metadata": {
        "id": "5E2eXRT76MQh"
      },
      "source": [
        "# Careful - you might not need to do this!  \n",
        "# Be sure to check whether MTM is singular on the previous line.\n",
        "\n",
        "# If MTM is singular, then adjust one row of MTM and MT pts to be just 1's:\n",
        "\n",
        "#MTM[3] is the entire 4th row of MTM, \n",
        "#so MTM[3] = 1 will put 1's in MTM's 4th row.\n",
        "\n",
        "MTM[3] = 1\n",
        "MTpts[3] = 1\n",
        "\n",
        "print(\"MTM is now: \")\n",
        "print(MTM)\n",
        "\n",
        "print(\"and MTpts is now:\")\n",
        "print(MTpts)\n",
        "\n",
        "print(\"Is our modified MTM singular?\")\n",
        "is_singular(MTM)"
      ],
      "execution_count": null,
      "outputs": []
    },
    {
      "cell_type": "code",
      "metadata": {
        "id": "UkDKmNba6YHi"
      },
      "source": [
        "#Find our solution using the inverse of MTM:\n",
        "\n",
        "#First, find the inverse of MTM:\n",
        "MTMI = np.linalg.inv(MTM)\n",
        "\n",
        "print(\"The inverse of MTM is:\")\n",
        "print(MTMI)\n",
        "\n",
        "#Now, use the inverse of MTM to solve for the rankings:\n",
        "\n",
        "print(\"\\n\")\n",
        "print(\"The solution are rankings:\")\n",
        "MTMI * MTpts"
      ],
      "execution_count": null,
      "outputs": []
    }
  ]
}