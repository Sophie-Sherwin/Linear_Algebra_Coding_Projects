{
  "nbformat": 4,
  "nbformat_minor": 0,
  "metadata": {
    "colab": {
      "provenance": [],
      "authorship_tag": "ABX9TyNBtKt/ZqhyjzYhwnYdw+9k",
      "include_colab_link": true
    },
    "kernelspec": {
      "name": "python3",
      "display_name": "Python 3"
    },
    "language_info": {
      "name": "python"
    }
  },
  "cells": [
    {
      "cell_type": "markdown",
      "metadata": {
        "id": "view-in-github",
        "colab_type": "text"
      },
      "source": [
        "<a href=\"https://colab.research.google.com/github/Sophie-Sherwin/Linear_Algebra_Coding_Projects/blob/main/Gram_Schmidt_from_scratch.ipynb\" target=\"_parent\"><img src=\"https://colab.research.google.com/assets/colab-badge.svg\" alt=\"Open In Colab\"/></a>"
      ]
    },
    {
      "cell_type": "code",
      "execution_count": 1,
      "metadata": {
        "id": "_qLbTfmEMkxN"
      },
      "outputs": [],
      "source": [
        "import matplotlib.pyplot as plt\n",
        "from sympy import Poly\n",
        "import sympy as sym\n",
        "import numpy as np\n",
        "from numpy import c_\n",
        "\n",
        "# We'll specify that x and t are variables:\n",
        "x, t = sym.symbols('x, t')\n",
        "\n",
        "ll = \"loaded\""
      ]
    },
    {
      "cell_type": "markdown",
      "source": [],
      "metadata": {
        "id": "PMg0JSOjMvZw"
      }
    },
    {
      "cell_type": "code",
      "source": [
        "#create a vector\n",
        "r1 = np.array([3, 0, 3, 0])\n",
        "r1"
      ],
      "metadata": {
        "colab": {
          "base_uri": "https://localhost:8080/"
        },
        "id": "fu4s5n-kNYBC",
        "outputId": "993709d2-73eb-41c2-e8ca-c72f6dad62d8"
      },
      "execution_count": 7,
      "outputs": [
        {
          "output_type": "execute_result",
          "data": {
            "text/plain": [
              "array([3, 0, 3, 0])"
            ]
          },
          "metadata": {},
          "execution_count": 7
        }
      ]
    },
    {
      "cell_type": "code",
      "source": [
        "#vector dot product\n",
        "r1.dot(r1)"
      ],
      "metadata": {
        "colab": {
          "base_uri": "https://localhost:8080/"
        },
        "id": "vTPABSZMONS0",
        "outputId": "aa686b62-7144-462a-cd4b-0a3e14ea4b46"
      },
      "execution_count": 8,
      "outputs": [
        {
          "output_type": "execute_result",
          "data": {
            "text/plain": [
              "18"
            ]
          },
          "metadata": {},
          "execution_count": 8
        }
      ]
    },
    {
      "cell_type": "code",
      "source": [
        "#magnitude of a vector\n",
        "np.sqrt(r1.dot(r1))"
      ],
      "metadata": {
        "colab": {
          "base_uri": "https://localhost:8080/"
        },
        "id": "aOicZLP7PaFa",
        "outputId": "47411578-fde3-4f19-8d0e-83160eccd3dd"
      },
      "execution_count": 10,
      "outputs": [
        {
          "output_type": "execute_result",
          "data": {
            "text/plain": [
              "4.242640687119285"
            ]
          },
          "metadata": {},
          "execution_count": 10
        }
      ]
    },
    {
      "cell_type": "markdown",
      "source": [
        "#Gram-Schmidt Orthonormal Process\n",
        "We'll use the Gram-Schmidt Orthonormal process to find orthogonal vectors in $R^4$"
      ],
      "metadata": {
        "id": "xX5ReNWbQJC8"
      }
    },
    {
      "cell_type": "markdown",
      "source": [
        "##Our \"Random\" Vectors:"
      ],
      "metadata": {
        "id": "dZHGB6VvQiYr"
      }
    },
    {
      "cell_type": "code",
      "source": [
        "#create a vector\n",
        "r1 = np.array([3, 0, 3, 0])\n",
        "\n",
        "r2 = np.array([3, 2, 3, 3])\n",
        "\n",
        "r3 = np.array([-7, -4, -5, -6])\n",
        "\n",
        "r4 = np.array([-7, -3, -11, 2])"
      ],
      "metadata": {
        "id": "P9OeLL3QQDfc"
      },
      "execution_count": 30,
      "outputs": []
    },
    {
      "cell_type": "markdown",
      "source": [
        "## Process $r1$"
      ],
      "metadata": {
        "id": "pdrq2FaaRR3F"
      }
    },
    {
      "cell_type": "code",
      "source": [
        "# Choose the vector and subtract off the orthogonal pieces:\n",
        "t1 = r1\n",
        "t1\n",
        "\n",
        "# Find the size of t1:\n",
        "m = np.sqrt(t1.dot(t1))\n",
        "\n",
        "# Create the orthonormal vector u1:\n",
        "u1 = (1/m) * t1\n",
        "u1"
      ],
      "metadata": {
        "colab": {
          "base_uri": "https://localhost:8080/"
        },
        "id": "B2FI7sTaRQ6s",
        "outputId": "2047466a-62f9-45f1-f411-ebfb2cf9870b"
      },
      "execution_count": 31,
      "outputs": [
        {
          "output_type": "execute_result",
          "data": {
            "text/plain": [
              "array([0.70710678, 0.        , 0.70710678, 0.        ])"
            ]
          },
          "metadata": {},
          "execution_count": 31
        }
      ]
    },
    {
      "cell_type": "code",
      "source": [
        "# Let's check magnitude and orthogonal: \n",
        "u1.dot(u1)"
      ],
      "metadata": {
        "colab": {
          "base_uri": "https://localhost:8080/"
        },
        "id": "ZSm78nYsVbLX",
        "outputId": "7d2a9c7d-0daa-4b58-e2fb-1df13ae799e0"
      },
      "execution_count": 41,
      "outputs": [
        {
          "output_type": "execute_result",
          "data": {
            "text/plain": [
              "1.0000000000000002"
            ]
          },
          "metadata": {},
          "execution_count": 41
        }
      ]
    },
    {
      "cell_type": "markdown",
      "source": [
        "## Process $r2$"
      ],
      "metadata": {
        "id": "i7818ak5Sd9-"
      }
    },
    {
      "cell_type": "code",
      "source": [
        "# Choose the vector and subtract off the orthogonal pieces:\n",
        "t2 = r2 - (u1.dot(r2))*u1\n",
        "t2\n",
        "\n",
        "# Find the size of t2:\n",
        "m = np.sqrt(t2.dot(t2))\n",
        "\n",
        "# Create the orthonormal vector u2:\n",
        "u2 = (1/m) * t2\n",
        "u2"
      ],
      "metadata": {
        "colab": {
          "base_uri": "https://localhost:8080/"
        },
        "id": "_vNbSIe-ScO3",
        "outputId": "4fdbcf62-9288-463d-fd7e-6184804c033d"
      },
      "execution_count": 32,
      "outputs": [
        {
          "output_type": "execute_result",
          "data": {
            "text/plain": [
              "array([-1.23168186e-16,  5.54700196e-01, -1.23168186e-16,  8.32050294e-01])"
            ]
          },
          "metadata": {},
          "execution_count": 32
        }
      ]
    },
    {
      "cell_type": "code",
      "source": [
        "#essentially: [0, .55, 0, .83]\n",
        "#Should be: [0, 2/sqrt(13), 0, 3/sqrt(13)]\n",
        "#Check:\n",
        "print(2/np.sqrt(13))\n",
        "print(3/np.sqrt(13))"
      ],
      "metadata": {
        "colab": {
          "base_uri": "https://localhost:8080/"
        },
        "id": "nxUzIxG7TREv",
        "outputId": "ab825639-6efb-44d9-dff4-07398062b533"
      },
      "execution_count": 33,
      "outputs": [
        {
          "output_type": "stream",
          "name": "stdout",
          "text": [
            "0.5547001962252291\n",
            "0.8320502943378437\n"
          ]
        }
      ]
    },
    {
      "cell_type": "markdown",
      "source": [
        "## Process $r3$"
      ],
      "metadata": {
        "id": "eC1CwrHIT2ql"
      }
    },
    {
      "cell_type": "code",
      "source": [
        "# Choose the vector and subtract off the orthogonal pieces:\n",
        "t3 = r3 - (u2.dot(r3))*u2 - (u1.dot(r3))*u1\n",
        "t3\n",
        "\n",
        "# Find the size of t3:\n",
        "m = np.sqrt(t3.dot(t3))\n",
        "\n",
        "# Create the orthonormal vector u3:\n",
        "u3 = (1/m) * t3\n",
        "u3"
      ],
      "metadata": {
        "colab": {
          "base_uri": "https://localhost:8080/"
        },
        "id": "OdyMeASnT_PX",
        "outputId": "1c9cfbfc-a2c3-4b78-bacd-aba5fd38c0f8"
      },
      "execution_count": 34,
      "outputs": [
        {
          "output_type": "execute_result",
          "data": {
            "text/plain": [
              "array([-7.07106781e-01, -3.14018492e-16,  7.07106781e-01, -6.28036983e-16])"
            ]
          },
          "metadata": {},
          "execution_count": 34
        }
      ]
    },
    {
      "cell_type": "code",
      "source": [
        "#essentially: [-.7, 0, -7, 0]\n",
        "#Should be: [-1/sqrt(2), 0, 1/sqrt(2), 0]\n",
        "#Check:\n",
        "print(-1/np.sqrt(2))\n",
        "print(1/np.sqrt(2))"
      ],
      "metadata": {
        "colab": {
          "base_uri": "https://localhost:8080/"
        },
        "id": "ZXD00DKpUOcb",
        "outputId": "c12f5b4a-ac94-4ef3-88ca-7c61a6b4e98f"
      },
      "execution_count": 40,
      "outputs": [
        {
          "output_type": "stream",
          "name": "stdout",
          "text": [
            "-0.7071067811865475\n",
            "0.7071067811865475\n"
          ]
        }
      ]
    },
    {
      "cell_type": "markdown",
      "source": [
        "## Process $r4$"
      ],
      "metadata": {
        "id": "xG8PykXvUdsx"
      }
    },
    {
      "cell_type": "code",
      "source": [
        "# Choose the vector and subtract off the orthogonal pieces:\n",
        "t4 = r4 - (u3.dot(r4))*u3 - (u2.dot(r4))*u2 - (u1.dot(r4))*u1\n",
        "\n",
        "\n",
        "# Find the size of t4:\n",
        "m = np.sqrt(t4.dot(t4))\n",
        "\n",
        "# Create the orthonormal vector u4:\n",
        "u4 = (1/m) * t4\n",
        "u4"
      ],
      "metadata": {
        "colab": {
          "base_uri": "https://localhost:8080/"
        },
        "id": "XIs6p16dUfcl",
        "outputId": "8ba320b1-f897-41f3-c317-1129f8f3ec9a"
      },
      "execution_count": 38,
      "outputs": [
        {
          "output_type": "execute_result",
          "data": {
            "text/plain": [
              "array([ 0.        , -0.83205029,  0.        ,  0.5547002 ])"
            ]
          },
          "metadata": {},
          "execution_count": 38
        }
      ]
    },
    {
      "cell_type": "code",
      "source": [
        "#essentially: [0, -.8, 0, .5]\n",
        "#Should be: [0, -3/sqrt(13), 0, 2/sqrt(13)]\n",
        "#Check:\n",
        "print(2/np.sqrt(13))\n",
        "print(-3/np.sqrt(13))"
      ],
      "metadata": {
        "colab": {
          "base_uri": "https://localhost:8080/"
        },
        "id": "GralFaA7U7Kj",
        "outputId": "3a9c9774-c28d-4e2b-8756-32eb05494e1d"
      },
      "execution_count": 39,
      "outputs": [
        {
          "output_type": "stream",
          "name": "stdout",
          "text": [
            "0.5547001962252291\n",
            "-0.8320502943378437\n"
          ]
        }
      ]
    },
    {
      "cell_type": "code",
      "source": [
        "Print(\"r1 = \")\n",
        "Print"
      ],
      "metadata": {
        "id": "s_x0jZj7WQyC"
      },
      "execution_count": null,
      "outputs": []
    }
  ]
}